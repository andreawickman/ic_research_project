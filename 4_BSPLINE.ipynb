{
 "cells": [
  {
   "cell_type": "code",
   "execution_count": 81,
   "metadata": {},
   "outputs": [],
   "source": [
    "import matplotlib.pyplot as plt\n",
    "import numpy as np \n",
    "import pandas as pd\n",
    "from scipy.interpolate import splrep, BSpline\n",
    "from src.preprocess import stratify5\n",
    "import seaborn as sns\n",
    "from src.aggregate_features import generate_lrtt_features, generate_maf_features\n",
    "from src.read_data import load_reference_data2\n",
    "\n",
    "from sklearn.ensemble import RandomForestClassifier\n",
    "from sklearn.preprocessing import OrdinalEncoder\n",
    "from sklearn.model_selection import train_test_split, StratifiedKFold\n",
    "from sklearn.metrics import accuracy_score\n",
    "\n",
    "\n",
    "#https://people.stat.sc.edu/hansont/stat740/Pspline.pdf"
   ]
  },
  {
   "cell_type": "code",
   "execution_count": 82,
   "metadata": {},
   "outputs": [
    {
     "name": "stderr",
     "output_type": "stream",
     "text": [
      "/var/folders/rt/3hw_n0v124vg8h2q8kwnx3180000gn/T/ipykernel_58466/3512507516.py:2: DtypeWarning: Columns (0) have mixed types. Specify dtype option on import or set low_memory=False.\n",
      "  phylo = pd.read_csv('./data/derived/imputed_phylo_data.csv')\n"
     ]
    }
   ],
   "source": [
    "#LOAD DATASETS\n",
    "phylo = pd.read_csv('./data/derived/imputed_phylo_data.csv')\n",
    "maf = pd.read_csv('./data/derived/imputed_MAF_data.csv')\n",
    "ambig = pd.read_csv('./data/derived/ambiguity/ambiguity_genes.csv')\n",
    "\n",
    "#ADD TSI CATEGORIES\n",
    "phylo = stratify5(phylo)\n",
    "maf = stratify5(maf)\n",
    "\n",
    "#sort by ID and coordinate\n",
    "phylo = phylo.sort_values(by=['RENAME_ID', 'xcoord'])\n",
    "maf = maf.sort_values(by=['RENAME_ID', 'Window_Centre'])"
   ]
  },
  {
   "cell_type": "markdown",
   "metadata": {},
   "source": [
    "# 1 - PREPARE DATA"
   ]
  },
  {
   "cell_type": "code",
   "execution_count": 83,
   "metadata": {},
   "outputs": [],
   "source": [
    "#ENCODE STRATA IN FIVE CLASSES\n",
    "tsi_order = ['0m-6m', '6m-12m', '12m-24m', '2y-4y', '4y+']\n",
    "ordinal_encoder = OrdinalEncoder(categories=[tsi_order])\n",
    "phylo['TSI_encoded'] = ordinal_encoder.fit_transform(phylo[['TSI_category']])\n",
    "maf['TSI_encoded'] = ordinal_encoder.fit_transform(maf[['TSI_category']])\n",
    "\n",
    "#FIND UNIQUE IDS   \n",
    "unique_ids = phylo['RENAME_ID'].unique()\n",
    "#SPLIT BASED ON IDS\n",
    "train_ids, test_ids = train_test_split(unique_ids, test_size=0.25, random_state=42)\n",
    "\n",
    "#TRAIN AND TEST DATASETS\n",
    "train_phylo = phylo[phylo['RENAME_ID'].isin(train_ids)]\n",
    "test_phylo = phylo[phylo['RENAME_ID'].isin(test_ids)]\n",
    "train_maf = maf[maf['RENAME_ID'].isin(train_ids)]\n",
    "test_maf = maf[maf['RENAME_ID'].isin(test_ids)]\n",
    "train_ambig = ambig[ambig['RENAME_ID'].isin(train_ids)]\n",
    "test_ambig = ambig[ambig['RENAME_ID'].isin(test_ids)]"
   ]
  },
  {
   "cell_type": "markdown",
   "metadata": {},
   "source": [
    "# 2 - BSPLINE SMOOTHING"
   ]
  },
  {
   "cell_type": "markdown",
   "metadata": {},
   "source": [
    "## deprecated"
   ]
  },
  {
   "cell_type": "code",
   "execution_count": null,
   "metadata": {},
   "outputs": [],
   "source": [
    "def check_knots(knots, x_values):\n",
    "    return [knot for knot in knots if x_values.min() <= knot <= x_values.max()]\n",
    "\n",
    "def bspline_smoothing_manual_knots(df, x, y, knots, smoothing_factor=1):\n",
    "    #print(f\"Processing {x}, {y} with {len(df)} data points\")\n",
    "    filtered_knots = check_knots(knots, df[x])\n",
    "    #print(f\"Filtered knots: {filtered_knots}\")\n",
    "    if len(filtered_knots) < 4:  # Ensure there are enough knots for spline fitting\n",
    "        print(f\"Not enough valid knots for smoothing {x}, {y}. Returning NaN.\")\n",
    "        return np.full(df.shape[0], np.nan)\n",
    "    try:\n",
    "        t, c, k = splrep(df[x], df[y], s=smoothing_factor, t=filtered_knots)\n",
    "        bspline = BSpline(t, c, k, extrapolate=False)\n",
    "        return bspline(df[x])\n",
    "    except Exception as e:\n",
    "        print(f\"Error in B-spline smoothing for {x}, {y} with knots {knots}: {e}\")\n",
    "        return np.full(df.shape[0], np.nan)"
   ]
  },
  {
   "cell_type": "markdown",
   "metadata": {},
   "source": [
    "## knots"
   ]
  },
  {
   "cell_type": "code",
   "execution_count": 84,
   "metadata": {},
   "outputs": [],
   "source": [
    "import logging\n",
    "\n",
    "logging.basicConfig(level=logging.INFO)\n",
    "\n",
    "def bspline_smoothing_automatic_knots(df, x, y, num_knots, smoothing_factor=1):\n",
    "    try:\n",
    "        # Ensure the data is sorted\n",
    "        df = df.sort_values(by=x)\n",
    "        # Check for NaN values and constant values\n",
    "        if df[x].isna().any() or df[y].isna().any():\n",
    "            logging.warning(f\"NaN values found in group {df['RENAME_ID'].iloc[0]}\")\n",
    "            return np.full(df.shape[0], np.nan), np.full(num_knots + 3, np.nan)\n",
    "        if df[x].nunique() == 1 or df[y].nunique() == 1:\n",
    "            logging.warning(f\"Constant values found in group {df['RENAME_ID'].iloc[0]}\")\n",
    "            return np.full(df.shape[0], np.nan), np.full(num_knots + 3, np.nan)\n",
    "\n",
    "        # Log min and max values of xcoord for each group\n",
    "        min_x, max_x = df[x].min(), df[x].max()\n",
    "        #logging.info(f\"Group {df['RENAME_ID'].iloc[0]}: min_x = {min_x}, max_x = {max_x}\")\n",
    "\n",
    "        # Check for low variation in x values\n",
    "        if max_x - min_x < 1e-5:\n",
    "            logging.warning(f\"Low variation in x values for group {df['RENAME_ID'].iloc[0]}\")\n",
    "            return np.full(df.shape[0], np.nan), np.full(num_knots + 3, np.nan)\n",
    "\n",
    "        # Generate knots\n",
    "        knots = np.linspace(df[x].min(), df[x].max(), num_knots)[1:-1]\n",
    "        # Fit B-spline\n",
    "        t, xi, k = splrep(df[x], df[y], s=smoothing_factor, k=3, t=knots)\n",
    "        bspline = BSpline(t, xi, k, extrapolate=False)\n",
    "        smoothed_values = bspline(df[x])\n",
    "        #logging.info(f\"Coefficients for group {df['RENAME_ID'].iloc[0]}: {xi}\")\n",
    "\n",
    "        return smoothed_values, xi\n",
    "    except Exception as e:\n",
    "        print(f\"Error in B-spline smoothing for {x}, {y} with {num_knots} knots: {e}\")\n",
    "        return np.full(df.shape[0], np.nan), np.full(num_knots + 3, np.nan) # Return NaN if smoothing failed"
   ]
  },
  {
   "cell_type": "code",
   "execution_count": 85,
   "metadata": {},
   "outputs": [
    {
     "name": "stderr",
     "output_type": "stream",
     "text": [
      "/var/folders/rt/3hw_n0v124vg8h2q8kwnx3180000gn/T/ipykernel_58466/1858220171.py:2: DeprecationWarning: DataFrameGroupBy.apply operated on the grouping columns. This behavior is deprecated, and in a future version of pandas the grouping columns will be excluded from the operation. Either pass `include_groups=False` to exclude the groupings or explicitly select the grouping columns after groupby to silence this warning.\n",
      "  smoothed_values = df.groupby('RENAME_ID', group_keys=False).apply(\n",
      "/var/folders/rt/3hw_n0v124vg8h2q8kwnx3180000gn/T/ipykernel_58466/1858220171.py:5: DeprecationWarning: DataFrameGroupBy.apply operated on the grouping columns. This behavior is deprecated, and in a future version of pandas the grouping columns will be excluded from the operation. Either pass `include_groups=False` to exclude the groupings or explicitly select the grouping columns after groupby to silence this warning.\n",
      "  xi = df.groupby('RENAME_ID').apply(\n",
      "/var/folders/rt/3hw_n0v124vg8h2q8kwnx3180000gn/T/ipykernel_58466/1858220171.py:2: DeprecationWarning: DataFrameGroupBy.apply operated on the grouping columns. This behavior is deprecated, and in a future version of pandas the grouping columns will be excluded from the operation. Either pass `include_groups=False` to exclude the groupings or explicitly select the grouping columns after groupby to silence this warning.\n",
      "  smoothed_values = df.groupby('RENAME_ID', group_keys=False).apply(\n",
      "/var/folders/rt/3hw_n0v124vg8h2q8kwnx3180000gn/T/ipykernel_58466/1858220171.py:5: DeprecationWarning: DataFrameGroupBy.apply operated on the grouping columns. This behavior is deprecated, and in a future version of pandas the grouping columns will be excluded from the operation. Either pass `include_groups=False` to exclude the groupings or explicitly select the grouping columns after groupby to silence this warning.\n",
      "  xi = df.groupby('RENAME_ID').apply(\n",
      "/var/folders/rt/3hw_n0v124vg8h2q8kwnx3180000gn/T/ipykernel_58466/1858220171.py:2: DeprecationWarning: DataFrameGroupBy.apply operated on the grouping columns. This behavior is deprecated, and in a future version of pandas the grouping columns will be excluded from the operation. Either pass `include_groups=False` to exclude the groupings or explicitly select the grouping columns after groupby to silence this warning.\n",
      "  smoothed_values = df.groupby('RENAME_ID', group_keys=False).apply(\n",
      "/var/folders/rt/3hw_n0v124vg8h2q8kwnx3180000gn/T/ipykernel_58466/1858220171.py:5: DeprecationWarning: DataFrameGroupBy.apply operated on the grouping columns. This behavior is deprecated, and in a future version of pandas the grouping columns will be excluded from the operation. Either pass `include_groups=False` to exclude the groupings or explicitly select the grouping columns after groupby to silence this warning.\n",
      "  xi = df.groupby('RENAME_ID').apply(\n",
      "/var/folders/rt/3hw_n0v124vg8h2q8kwnx3180000gn/T/ipykernel_58466/1858220171.py:2: DeprecationWarning: DataFrameGroupBy.apply operated on the grouping columns. This behavior is deprecated, and in a future version of pandas the grouping columns will be excluded from the operation. Either pass `include_groups=False` to exclude the groupings or explicitly select the grouping columns after groupby to silence this warning.\n",
      "  smoothed_values = df.groupby('RENAME_ID', group_keys=False).apply(\n",
      "/var/folders/rt/3hw_n0v124vg8h2q8kwnx3180000gn/T/ipykernel_58466/1858220171.py:5: DeprecationWarning: DataFrameGroupBy.apply operated on the grouping columns. This behavior is deprecated, and in a future version of pandas the grouping columns will be excluded from the operation. Either pass `include_groups=False` to exclude the groupings or explicitly select the grouping columns after groupby to silence this warning.\n",
      "  xi = df.groupby('RENAME_ID').apply(\n",
      "/var/folders/rt/3hw_n0v124vg8h2q8kwnx3180000gn/T/ipykernel_58466/1858220171.py:2: DeprecationWarning: DataFrameGroupBy.apply operated on the grouping columns. This behavior is deprecated, and in a future version of pandas the grouping columns will be excluded from the operation. Either pass `include_groups=False` to exclude the groupings or explicitly select the grouping columns after groupby to silence this warning.\n",
      "  smoothed_values = df.groupby('RENAME_ID', group_keys=False).apply(\n",
      "/var/folders/rt/3hw_n0v124vg8h2q8kwnx3180000gn/T/ipykernel_58466/1858220171.py:5: DeprecationWarning: DataFrameGroupBy.apply operated on the grouping columns. This behavior is deprecated, and in a future version of pandas the grouping columns will be excluded from the operation. Either pass `include_groups=False` to exclude the groupings or explicitly select the grouping columns after groupby to silence this warning.\n",
      "  xi = df.groupby('RENAME_ID').apply(\n",
      "/var/folders/rt/3hw_n0v124vg8h2q8kwnx3180000gn/T/ipykernel_58466/1858220171.py:2: DeprecationWarning: DataFrameGroupBy.apply operated on the grouping columns. This behavior is deprecated, and in a future version of pandas the grouping columns will be excluded from the operation. Either pass `include_groups=False` to exclude the groupings or explicitly select the grouping columns after groupby to silence this warning.\n",
      "  smoothed_values = df.groupby('RENAME_ID', group_keys=False).apply(\n",
      "/var/folders/rt/3hw_n0v124vg8h2q8kwnx3180000gn/T/ipykernel_58466/1858220171.py:5: DeprecationWarning: DataFrameGroupBy.apply operated on the grouping columns. This behavior is deprecated, and in a future version of pandas the grouping columns will be excluded from the operation. Either pass `include_groups=False` to exclude the groupings or explicitly select the grouping columns after groupby to silence this warning.\n",
      "  xi = df.groupby('RENAME_ID').apply(\n",
      "/var/folders/rt/3hw_n0v124vg8h2q8kwnx3180000gn/T/ipykernel_58466/1858220171.py:22: SettingWithCopyWarning: \n",
      "A value is trying to be set on a copy of a slice from a DataFrame.\n",
      "Try using .loc[row_indexer,col_indexer] = value instead\n",
      "\n",
      "See the caveats in the documentation: https://pandas.pydata.org/pandas-docs/stable/user_guide/indexing.html#returning-a-view-versus-a-copy\n",
      "  train_phylo['smoothed_lrtt'] = smoothed_lrtt_train\n",
      "/var/folders/rt/3hw_n0v124vg8h2q8kwnx3180000gn/T/ipykernel_58466/1858220171.py:23: SettingWithCopyWarning: \n",
      "A value is trying to be set on a copy of a slice from a DataFrame.\n",
      "Try using .loc[row_indexer,col_indexer] = value instead\n",
      "\n",
      "See the caveats in the documentation: https://pandas.pydata.org/pandas-docs/stable/user_guide/indexing.html#returning-a-view-versus-a-copy\n",
      "  train_maf['smoothed_maf12c'] = smoothed_maf12c_train\n",
      "/var/folders/rt/3hw_n0v124vg8h2q8kwnx3180000gn/T/ipykernel_58466/1858220171.py:24: SettingWithCopyWarning: \n",
      "A value is trying to be set on a copy of a slice from a DataFrame.\n",
      "Try using .loc[row_indexer,col_indexer] = value instead\n",
      "\n",
      "See the caveats in the documentation: https://pandas.pydata.org/pandas-docs/stable/user_guide/indexing.html#returning-a-view-versus-a-copy\n",
      "  train_maf['smoothed_maf3c'] = smoothed_maf3c_train\n",
      "/var/folders/rt/3hw_n0v124vg8h2q8kwnx3180000gn/T/ipykernel_58466/1858220171.py:26: SettingWithCopyWarning: \n",
      "A value is trying to be set on a copy of a slice from a DataFrame.\n",
      "Try using .loc[row_indexer,col_indexer] = value instead\n",
      "\n",
      "See the caveats in the documentation: https://pandas.pydata.org/pandas-docs/stable/user_guide/indexing.html#returning-a-view-versus-a-copy\n",
      "  test_phylo['smoothed_lrtt'] = smoothed_lrtt_test\n",
      "/var/folders/rt/3hw_n0v124vg8h2q8kwnx3180000gn/T/ipykernel_58466/1858220171.py:27: SettingWithCopyWarning: \n",
      "A value is trying to be set on a copy of a slice from a DataFrame.\n",
      "Try using .loc[row_indexer,col_indexer] = value instead\n",
      "\n",
      "See the caveats in the documentation: https://pandas.pydata.org/pandas-docs/stable/user_guide/indexing.html#returning-a-view-versus-a-copy\n",
      "  test_maf['smoothed_maf12c'] = smoothed_maf12c_test\n",
      "/var/folders/rt/3hw_n0v124vg8h2q8kwnx3180000gn/T/ipykernel_58466/1858220171.py:28: SettingWithCopyWarning: \n",
      "A value is trying to be set on a copy of a slice from a DataFrame.\n",
      "Try using .loc[row_indexer,col_indexer] = value instead\n",
      "\n",
      "See the caveats in the documentation: https://pandas.pydata.org/pandas-docs/stable/user_guide/indexing.html#returning-a-view-versus-a-copy\n",
      "  test_maf['smoothed_maf3c'] = smoothed_maf3c_test\n"
     ]
    }
   ],
   "source": [
    "def apply_smoothing(df, x, y, num_knots):\n",
    "    smoothed_values = df.groupby('RENAME_ID', group_keys=False).apply(\n",
    "        lambda group: pd.Series(bspline_smoothing_automatic_knots(group, x, y, num_knots)[0], index=group.index)\n",
    "    )\n",
    "    xi = df.groupby('RENAME_ID').apply(\n",
    "        lambda group: pd.Series(bspline_smoothing_automatic_knots(group, x, y, num_knots)[1])\n",
    "    )\n",
    "    return smoothed_values, xi\n",
    "\n",
    "K = 10\n",
    "\n",
    "# B-SPLINE SMOOTHING LRTT, MAF12C, AND MAF3C\n",
    "smoothed_lrtt_train, coefficients_lrtt_train = apply_smoothing(train_phylo, 'xcoord', 'normalised.largest.rtt', K)\n",
    "smoothed_maf12c_train, coefficients_maf12c_train = apply_smoothing(train_maf, 'Window_Centre', 'MAF12c_Mean', K)\n",
    "smoothed_maf3c_train, coefficients_maf3c_train = apply_smoothing(train_maf, 'Window_Centre', 'MAF3c_Mean', 4)\n",
    "\n",
    "smoothed_lrtt_test, coefficients_lrtt_test = apply_smoothing(test_phylo, 'xcoord', 'normalised.largest.rtt', K)\n",
    "smoothed_maf12c_test, coefficients_maf12c_test = apply_smoothing(test_maf, 'Window_Centre', 'MAF12c_Mean', K)\n",
    "smoothed_maf3c_test, coefficients_maf3c_test = apply_smoothing(test_maf, 'Window_Centre', 'MAF3c_Mean', 4)\n",
    "\n",
    "# Adding smoothed values to the DataFrame\n",
    "train_phylo['smoothed_lrtt'] = smoothed_lrtt_train\n",
    "train_maf['smoothed_maf12c'] = smoothed_maf12c_train\n",
    "train_maf['smoothed_maf3c'] = smoothed_maf3c_train\n",
    "\n",
    "test_phylo['smoothed_lrtt'] = smoothed_lrtt_test\n",
    "test_maf['smoothed_maf12c'] = smoothed_maf12c_test\n",
    "test_maf['smoothed_maf3c'] = smoothed_maf3c_test"
   ]
  },
  {
   "cell_type": "markdown",
   "metadata": {},
   "source": [
    "## agreggating features"
   ]
  },
  {
   "cell_type": "code",
   "execution_count": 86,
   "metadata": {},
   "outputs": [],
   "source": [
    "first_second_codon_pos, third_codon_pos, gag, pol, gp120, gp41 = load_reference_data2('./data/')\n",
    "\n",
    "# Generate aggregated features for train and test datasets separately\n",
    "train_phylo_features = generate_lrtt_features(train_phylo, gag, pol, gp120, gp41, feature='smoothed_lrtt')\n",
    "test_phylo_features = generate_lrtt_features(test_phylo, gag, pol, gp120, gp41, feature='smoothed_lrtt')\n",
    "\n",
    "train_maf_features = generate_maf_features(train_maf, gag, pol, gp120, gp41, feature_12c = 'smoothed_maf12c', feature_3c= 'smoothed_maf3c')\n",
    "test_maf_features = generate_maf_features(test_maf, gag, pol, gp120, gp41, feature_12c = 'smoothed_maf12c', feature_3c= 'smoothed_maf3c')\n",
    "\n",
    "# Merge the aggregated features\n",
    "train_features = pd.merge(train_phylo_features, train_maf_features, on=['RENAME_ID', 'TSI_days'], how = 'inner')\n",
    "test_features = pd.merge(test_phylo_features, test_maf_features, on=['RENAME_ID', 'TSI_days'], how = 'inner')"
   ]
  },
  {
   "cell_type": "code",
   "execution_count": 87,
   "metadata": {},
   "outputs": [],
   "source": [
    "# Finalize the features\n",
    "train_features = stratify5(train_features)\n",
    "test_features = stratify5(test_features)"
   ]
  },
  {
   "cell_type": "markdown",
   "metadata": {},
   "source": [
    "## adding $\\xi$ to feature set"
   ]
  },
  {
   "cell_type": "code",
   "execution_count": 75,
   "metadata": {},
   "outputs": [],
   "source": [
    "def expand_coefficients(df, coeffs, prefix):\n",
    "    coeffs_df = coeffs.reset_index()\n",
    "    coeffs_df.columns = [f'{prefix}_coeff_{col}' if col != 'RENAME_ID' else 'RENAME_ID' for col in coeffs_df.columns]\n",
    "    coeffs_df = coeffs_df.iloc[:, :-4]  # Drop the last four columns\n",
    "    return pd.merge(df, coeffs_df, on='RENAME_ID', how='left')\n",
    "\n",
    "# Add coefficients to the aggregated features\n",
    "train_features = expand_coefficients(train_features, coefficients_lrtt_train, 'lrtt')\n",
    "train_features = expand_coefficients(train_features, coefficients_maf12c_train, 'maf12c')\n",
    "train_features = expand_coefficients(train_features, coefficients_maf3c_train, 'maf3c')\n",
    "\n",
    "test_features = expand_coefficients(test_features, coefficients_lrtt_test, 'lrtt')\n",
    "test_features = expand_coefficients(test_features, coefficients_maf12c_test, 'maf12c')\n",
    "test_features = expand_coefficients(test_features, coefficients_maf3c_test, 'maf3c')\n"
   ]
  },
  {
   "cell_type": "markdown",
   "metadata": {},
   "source": [
    "## back to normal"
   ]
  },
  {
   "cell_type": "code",
   "execution_count": 27,
   "metadata": {},
   "outputs": [],
   "source": [
    "# SET Y\n",
    "target_column = 'TSI_category'\n",
    "\n",
    "predictor_sets = {\n",
    "    'Alex': [\"gag_lrtt\", \"gag_tips\", \"gag_maf3c\", \"pol_lrtt\", \"gp120_lrtt\", \"gp120_tips\", \"gp41_tips\" ,\"gp41_maf12c\",\"gp41_maf3c\"],\n",
    "    'Genome': ['genome_lrtt', 'genome_maf12c', 'genome_maf3c', 'genome_tips'],\n",
    "    'ENV': ['gp120_lrtt', 'gp120_maf12c', 'gp120_maf3c'],\n",
    "    'GAG_ENV': ['gp120_lrtt', 'gp120_maf12c', 'gp120_maf3c', 'gp120_tips', 'gag_lrtt', 'gag_maf12c', 'gag_maf3c', 'gag_tips'],\n",
    "    'All': ['genome_lrtt', 'genome_maf12c', 'genome_maf3c', 'genome_tips', 'gag_lrtt', 'gag_tips', 'gag_maf12c', 'gag_maf3c', 'pol_lrtt', 'pol_tips',\n",
    "            'pol_maf12c', 'pol_maf3c', 'gp120_lrtt', 'gp120_tips', 'gp120_maf12c', 'gp120_maf3c', 'gp41_lrtt', 'gp41_tips','gp41_maf12c', 'gp41_maf3c'],\n",
    "    'Genome_ENV_GAG': ['genome_lrtt', 'genome_maf12c', 'genome_maf3c', 'genome_tips' , 'gp120_lrtt', 'gp120_maf12c', 'gp120_maf3c', 'gag_lrtt', 'gag_maf12c', 'gag_maf3c'], \n",
    "    'Andrea': ['genome_lrtt', 'genome_maf12c', 'genome_maf3c', 'pol_lrtt', 'pol_maf12c', 'pol_maf3c','gag_lrtt', 'gp120_lrtt', 'gag_maf3c', 'gp41_maf3c']}"
   ]
  },
  {
   "cell_type": "code",
   "execution_count": 10,
   "metadata": {},
   "outputs": [],
   "source": [
    "def run_forest_class(X_train, y_train, X_test, y_test, predictors, n_estimators=100, random_state=42):\n",
    "    # Select the predictor columns\n",
    "    X_train_subset = X_train[predictors]\n",
    "    X_test_subset = X_test[predictors]\n",
    "\n",
    "    #DEFINE RANDOM FOREST CLASSIFIER INSTANCE   \n",
    "    rf = RandomForestClassifier(n_estimators=n_estimators, random_state=random_state)\n",
    "    #FIT RANDOM FOREST CLASSIFIER ON TRAINING DATA \n",
    "    rf.fit(X_train_subset, y_train)\n",
    "    #MAKE PREDICTIONS ON TEST DATA\n",
    "    y_pred = rf.predict(X_test_subset)\n",
    "\n",
    "    #COMPUTE CLASSIFICATION ACCURACY \n",
    "    accuracy = accuracy_score(y_test, y_pred)\n",
    "\n",
    "    return accuracy\n",
    "\n",
    "test_split = 0.25"
   ]
  },
  {
   "cell_type": "code",
   "execution_count": 28,
   "metadata": {},
   "outputs": [
    {
     "data": {
      "text/html": [
       "<div>\n",
       "<style scoped>\n",
       "    .dataframe tbody tr th:only-of-type {\n",
       "        vertical-align: middle;\n",
       "    }\n",
       "\n",
       "    .dataframe tbody tr th {\n",
       "        vertical-align: top;\n",
       "    }\n",
       "\n",
       "    .dataframe thead th {\n",
       "        text-align: right;\n",
       "    }\n",
       "</style>\n",
       "<table border=\"1\" class=\"dataframe\">\n",
       "  <thead>\n",
       "    <tr style=\"text-align: right;\">\n",
       "      <th></th>\n",
       "      <th>Predictor Set</th>\n",
       "      <th>Accuracy</th>\n",
       "    </tr>\n",
       "  </thead>\n",
       "  <tbody>\n",
       "    <tr>\n",
       "      <th>5</th>\n",
       "      <td>Genome_ENV_GAG</td>\n",
       "      <td>0.565789</td>\n",
       "    </tr>\n",
       "    <tr>\n",
       "      <th>3</th>\n",
       "      <td>GAG_ENV</td>\n",
       "      <td>0.559211</td>\n",
       "    </tr>\n",
       "    <tr>\n",
       "      <th>6</th>\n",
       "      <td>Andrea</td>\n",
       "      <td>0.559211</td>\n",
       "    </tr>\n",
       "    <tr>\n",
       "      <th>4</th>\n",
       "      <td>All</td>\n",
       "      <td>0.546053</td>\n",
       "    </tr>\n",
       "    <tr>\n",
       "      <th>0</th>\n",
       "      <td>Alex</td>\n",
       "      <td>0.539474</td>\n",
       "    </tr>\n",
       "    <tr>\n",
       "      <th>1</th>\n",
       "      <td>Genome</td>\n",
       "      <td>0.519737</td>\n",
       "    </tr>\n",
       "    <tr>\n",
       "      <th>2</th>\n",
       "      <td>ENV</td>\n",
       "      <td>0.440789</td>\n",
       "    </tr>\n",
       "  </tbody>\n",
       "</table>\n",
       "</div>"
      ],
      "text/plain": [
       "    Predictor Set  Accuracy\n",
       "5  Genome_ENV_GAG  0.565789\n",
       "3         GAG_ENV  0.559211\n",
       "6          Andrea  0.559211\n",
       "4             All  0.546053\n",
       "0            Alex  0.539474\n",
       "1          Genome  0.519737\n",
       "2             ENV  0.440789"
      ]
     },
     "execution_count": 28,
     "metadata": {},
     "output_type": "execute_result"
    }
   ],
   "source": [
    "# Classification Model\n",
    "X_train = train_features.drop(columns=['TSI_category'])\n",
    "y_train = train_features['TSI_category']\n",
    "X_test = test_features.drop(columns=['TSI_category'])\n",
    "y_test = test_features['TSI_category']\n",
    "\n",
    "results = []\n",
    "\n",
    "for set_name, predictors in predictor_sets.items():\n",
    "    accuracy = run_forest_class(X_train, y_train, X_test, y_test, predictors)\n",
    "    results.append({'Predictor Set': set_name, 'Accuracy': accuracy})\n",
    "\n",
    "results_bspline = pd.DataFrame(results)\n",
    "results_bspline.sort_values(by = 'Accuracy', ascending=False)"
   ]
  },
  {
   "cell_type": "markdown",
   "metadata": {},
   "source": [
    "## AMBIGUITY"
   ]
  },
  {
   "cell_type": "code",
   "execution_count": 77,
   "metadata": {},
   "outputs": [],
   "source": [
    "train_ambig = ambig[ambig['RENAME_ID'].isin(train_ids)]\n",
    "test_ambig = ambig[ambig['RENAME_ID'].isin(test_ids)]"
   ]
  },
  {
   "cell_type": "code",
   "execution_count": 78,
   "metadata": {},
   "outputs": [],
   "source": [
    "# Merge ambiguity data\n",
    "train_features = pd.merge(train_features, train_ambig[['RENAME_ID', 'genome_ambig', 'gag_ambig', 'pol_ambig', 'gp41_ambig', 'gp120_ambig']], on='RENAME_ID', how='inner')\n",
    "test_features = pd.merge(test_features, test_ambig[['RENAME_ID', 'genome_ambig', 'gag_ambig', 'pol_ambig', 'gp41_ambig', 'gp120_ambig']], on='RENAME_ID', how='inner')"
   ]
  },
  {
   "cell_type": "code",
   "execution_count": 80,
   "metadata": {},
   "outputs": [],
   "source": [
    "#SAVE WITH SMOOTHED FEATURES \n",
    "train_features.to_csv('./data/derived/feature_selection/training_data.csv', header = True)\n",
    "test_features.to_csv('./data/derived/feature_selection/test_data.csv', header = True)"
   ]
  },
  {
   "cell_type": "code",
   "execution_count": 26,
   "metadata": {},
   "outputs": [
    {
     "name": "stdout",
     "output_type": "stream",
     "text": [
      "    Predictor Set  Accuracy\n",
      "6          Andrea  0.580645\n",
      "0            Alex  0.554839\n",
      "4             All  0.554839\n",
      "7         Optimal  0.548387\n",
      "5  Genome_ENV_GAG  0.541935\n",
      "3         GAG_ENV  0.522581\n",
      "1          Genome  0.516129\n",
      "2             ENV  0.438710\n"
     ]
    }
   ],
   "source": [
    "predictor_sets = {\n",
    "    'Alex':    [\"gag_lrtt\", \"gag_tips\", \"gag_maf3c\", \"pol_lrtt\", \"gp120_lrtt\", \"gp120_tips\", \"gp41_tips\" ,\"gp41_maf12c\",\"gp41_maf3c\", 'genome_ambig', 'gag_ambig', 'pol_ambig', 'gp41_ambig', 'gp120_ambig'],\n",
    "    'Genome':  ['genome_lrtt', 'genome_maf12c', 'genome_maf3c', 'genome_tips', 'genome_ambig'],\n",
    "    'ENV':     ['gp120_lrtt', 'gp120_maf12c', 'gp120_maf3c', 'gp120_tips', 'gp120_ambig'],\n",
    "    'GAG_ENV': ['gp120_lrtt', 'gp120_maf12c', 'gp120_maf3c', 'gp120_tips', 'gag_lrtt', 'gag_maf12c', 'gag_maf3c', 'gag_tips', 'gp120_ambig'],\n",
    "    'All':     ['genome_lrtt', 'genome_maf12c', 'genome_maf3c', 'genome_tips', 'gag_lrtt', 'gag_tips', 'gag_maf12c', 'gag_maf3c', 'pol_lrtt', 'pol_tips',\n",
    "                'pol_maf12c', 'pol_maf3c', 'gp120_lrtt', 'gp120_tips', 'gp120_maf12c', 'gp120_maf3c', 'gp41_lrtt', 'gp41_tips','gp41_maf12c', 'gp41_maf3c', 'genome_ambig', 'gag_ambig', 'pol_ambig', 'gp41_ambig', 'gp120_ambig'],\n",
    "    'Genome_ENV_GAG': ['genome_lrtt', 'genome_maf12c', 'genome_maf3c', 'genome_tips' , 'gp120_lrtt', 'gp120_maf12c', 'gp120_maf3c', 'gag_lrtt', 'gag_maf12c', 'gag_maf3c', 'genome_ambig', 'gag_ambig', 'pol_ambig', 'gp41_ambig', 'gp120_ambig'], \n",
    "    'Andrea':  ['genome_lrtt', 'genome_maf12c', 'genome_maf3c', 'pol_lrtt', 'pol_maf12c', 'pol_maf3c','gag_lrtt', 'gp120_lrtt', 'gag_maf3c', 'gp41_maf3c', 'genome_ambig', 'gag_ambig', 'pol_ambig', 'gp41_ambig', 'gp120_ambig'],\n",
    "    'Optimal': ['genome_lrtt','genome_tips','gag_lrtt','gag_tips','pol_lrtt','pol_tips',\n",
    "                'gp120_lrtt', 'gp120_tips', 'genome_maf12c', 'genome_maf3c', 'gag_maf12c',\n",
    "                'gag_maf3c', 'pol_maf12c', 'pol_maf3c' ,'gp120_maf12c' ,'gp120_maf3c',\n",
    "                'gp41_maf12c' ,'gp41_maf3c', 'genome_ambig', 'gag_ambig', 'pol_ambig',\n",
    "                'gp120_ambig']}\n",
    "\n",
    "# Classification Model\n",
    "X_train = train_features.drop(columns=['TSI_category'])\n",
    "y_train = train_features['TSI_category']\n",
    "X_test = test_features.drop(columns=['TSI_category'])\n",
    "y_test = test_features['TSI_category']\n",
    "\n",
    "results = []\n",
    "for set_name, predictors in predictor_sets.items():\n",
    "    accuracy = run_forest_class(X_train, y_train, X_test, y_test, predictors)\n",
    "    results.append({'Predictor Set': set_name, 'Accuracy': accuracy})\n",
    "\n",
    "results_df = pd.DataFrame(results)\n",
    "print(results_df.sort_values(by='Accuracy', ascending=False))"
   ]
  },
  {
   "cell_type": "code",
   "execution_count": 31,
   "metadata": {},
   "outputs": [],
   "source": [
    "predictor_sets = {\n",
    "    'Alex':           [\"gag_lrtt\", \"gag_tips\", \"gag_maf3c\", \n",
    "                        \"pol_lrtt\", \n",
    "                        \"gp120_lrtt\", \"gp120_tips\", \n",
    "                        \"gp41_tips\" ,\"gp41_maf12c\", \"gp41_maf3c\"],\n",
    "    'Genome':         ['genome_lrtt', 'genome_maf12c', 'genome_maf3c', 'genome_tips'],\n",
    "    'ENV':            ['gp120_lrtt', 'gp120_maf12c', 'gp120_maf3c'],\n",
    "    'GAG_ENV':        ['gp120_lrtt', 'gp120_maf12c', 'gp120_maf3c', 'gp120_tips', \n",
    "                       'gag_lrtt', 'gag_maf12c', 'gag_maf3c', 'gag_tips'],\n",
    "    'All':            ['genome_lrtt', 'genome_maf12c', 'genome_maf3c', 'genome_tips', \n",
    "                        'gag_lrtt', 'gag_tips', 'gag_maf12c', 'gag_maf3c', \n",
    "                        'pol_lrtt', 'pol_tips', 'pol_maf12c', 'pol_maf3c', \n",
    "                        'gp120_lrtt', 'gp120_tips', 'gp120_maf12c', 'gp120_maf3c', \n",
    "                        'gp41_lrtt', 'gp41_tips','gp41_maf12c', 'gp41_maf3c'],\n",
    "    'Genome_ENV_GAG': ['genome_lrtt', 'genome_maf12c', 'genome_maf3c', 'genome_tips', \n",
    "                       'gag_lrtt', 'gag_maf12c', 'gag_maf3c', \n",
    "                       'gp120_lrtt', 'gp120_maf12c', 'gp120_maf3c'], \n",
    "    'Andrea':          ['genome_lrtt', 'genome_maf12c', 'genome_maf3c', \n",
    "                        'pol_lrtt', 'pol_maf12c', 'pol_maf3c',\n",
    "                        'gag_lrtt', 'gp120_lrtt', 'gag_maf3c', \n",
    "                        'gp41_maf3c']}"
   ]
  },
  {
   "cell_type": "code",
   "execution_count": 39,
   "metadata": {},
   "outputs": [
    {
     "name": "stdout",
     "output_type": "stream",
     "text": [
      "10\n"
     ]
    }
   ],
   "source": [
    "# Encode the TSI_category\n",
    "tsi_order = ['0m-6m', '6m-12m', '12m-24m', '2y-4y', '4y+']\n",
    "ordinal_encoder = OrdinalEncoder(categories=[tsi_order])\n",
    "train_features['TSI_encoded'] = ordinal_encoder.fit_transform(train_features[['TSI_category']])\n",
    "test_features['TSI_encoded'] = ordinal_encoder.fit_transform(test_features[['TSI_category']])"
   ]
  },
  {
   "cell_type": "markdown",
   "metadata": {},
   "source": [
    "# FEATURE IMPORTANCE"
   ]
  },
  {
   "cell_type": "code",
   "execution_count": 156,
   "metadata": {},
   "outputs": [],
   "source": [
    "def train_and_get_feature_importance(X_train, y_train, predictors):\n",
    "    rf = RandomForestClassifier(n_estimators=100, random_state=42)\n",
    "    rf.fit(X_train[predictors], y_train)\n",
    "    feature_importance = pd.DataFrame({'feature': predictors, 'importance': rf.feature_importances_})\n",
    "    return rf, feature_importance\n",
    "\n",
    "# Function to plot feature importance\n",
    "def plot_feature_importance(feature_importance, title):\n",
    "    plt.figure(figsize=(10, 6))\n",
    "    sns.barplot(x='importance', y='feature', data=feature_importance.sort_values(by='importance', ascending=False))\n",
    "    plt.title(title)\n",
    "    plt.show()"
   ]
  },
  {
   "cell_type": "code",
   "execution_count": 165,
   "metadata": {},
   "outputs": [
    {
     "name": "stdout",
     "output_type": "stream",
     "text": [
      "Class distribution in training data:\n",
      " TSI_encoded\n",
      "1.0    134\n",
      "4.0    109\n",
      "0.0     97\n",
      "3.0     83\n",
      "2.0     50\n",
      "Name: count, dtype: int64\n",
      "Class distribution after stratified split:\n",
      " TSI_encoded\n",
      "1.0    107\n",
      "4.0     87\n",
      "0.0     78\n",
      "3.0     66\n",
      "2.0     40\n",
      "Name: count, dtype: int64\n"
     ]
    }
   ],
   "source": [
    "target_column = 'TSI_encoded'\n",
    "class_distribution = train_features[target_column].value_counts()\n",
    "print(\"Class distribution in training data:\\n\", class_distribution)\n",
    "\n",
    "skf = StratifiedKFold(n_splits=5, shuffle=True, random_state=42)\n",
    "for train_index, test_index in skf.split(train_features, train_features[target_column]):\n",
    "    stratified_train_features = train_features.iloc[train_index]\n",
    "    stratified_test_features = train_features.iloc[test_index]\n",
    "    break  # Using only the first split for simplicity\n",
    "\n",
    "# Check class distribution again\n",
    "stratified_class_distribution = stratified_train_features[target_column].value_counts()\n",
    "print(\"Class distribution after stratified split:\\n\", stratified_class_distribution)\n"
   ]
  },
  {
   "cell_type": "code",
   "execution_count": 167,
   "metadata": {},
   "outputs": [
    {
     "data": {
      "image/png": "[encoded data removed]",
      "text/plain": [
       "<Figure size 1000x600 with 1 Axes>"
      ]
     },
     "metadata": {},
     "output_type": "display_data"
    }
   ],
   "source": [
    "# Train the model on stratified data\n",
    "rf_all, _ = train_and_get_feature_importance(stratified_train_features, stratified_train_features[target_column], predictor_sets['All'])\n",
    "\n",
    "# Ensure class 4 is present in the model classes\n",
    "if 4 in rf_all.classes_:\n",
    "    class_4_feature_importance = get_class_feature_importance(rf_all, stratified_train_features[predictor_sets['All']], stratified_train_features[target_column], 4)\n",
    "    plot_feature_importance(class_4_feature_importance, \"Feature Importance for Class 4 (All Predictor Set)\")\n",
    "else:\n",
    "    print(\"Class 4 is not present in the trained model's classes.\")"
   ]
  },
  {
   "cell_type": "markdown",
   "metadata": {},
   "source": [
    "# BALANCED RANDOM FOREST CLASSIFIER"
   ]
  },
  {
   "cell_type": "code",
   "execution_count": 19,
   "metadata": {},
   "outputs": [],
   "source": [
    "from imblearn.ensemble import BalancedRandomForestClassifier\n",
    "#https://bmcbioinformatics.biomedcentral.com/articles/10.1186/1471-2105-8-25#Sec2"
   ]
  }
 ],
 "metadata": {
  "kernelspec": {
   "display_name": "Python 3",
   "language": "python",
   "name": "python3"
  },
  "language_info": {
   "codemirror_mode": {
    "name": "ipython",
    "version": 3
   },
   "file_extension": ".py",
   "mimetype": "text/x-python",
   "name": "python",
   "nbconvert_exporter": "python",
   "pygments_lexer": "ipython3",
   "version": "3.12.2"
  }
 },
 "nbformat": 4,
 "nbformat_minor": 2
}
